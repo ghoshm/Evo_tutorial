{
 "cells": [
  {
   "cell_type": "markdown",
   "metadata": {},
   "source": [
    "# Evolving temporal classifiers\n",
    "\n",
    "By [Marcus Ghosh](https://profiles.imperial.ac.uk/m.ghosh/).\n",
    "\n",
    "[![Open In Colab](https://colab.research.google.com/assets/colab-badge.svg)](https://colab.research.google.com/github/ghoshm/Evo_tutorial/blob/main/Evolving_temporal_classifiers.ipynb)"
   ]
  },
  {
   "cell_type": "markdown",
   "metadata": {},
   "source": [
    "## Aim\n",
    "\n",
    "We're going to write a simple evolutionary algorithm, and use it to solve a task. \n",
    "\n",
    "There are 4 parts to this - which you should work on in pairs: \n",
    "\n",
    "* Understand the **task**.\n",
    "* Understand the **network** model. \n",
    "* Write an **evolutionary algorithm** to optimise these models. \n",
    "* **Extensions**. \n",
    "\n",
    "Throughout instructions and questions are marked like this: \n",
    "\n",
    "> 0. Read, code or answer a question.\n",
    "\n",
    "For the last 30 minutes we will discuss this notebook, particularly these numbered parts."
   ]
  },
  {
   "cell_type": "markdown",
   "metadata": {},
   "source": [
    "## Setup"
   ]
  },
  {
   "cell_type": "code",
   "execution_count": null,
   "metadata": {},
   "outputs": [],
   "source": [
    "# Imports\n",
    "%load_ext autoreload\n",
    "%autoreload 2\n",
    "\n",
    "import os \n",
    "\n",
    "# For Google Colab\n",
    "if not os.path.exists('src.py'):\n",
    "  !git clone https://github.com/ghoshm/Evo_tutorial.git \n",
    "  %cd Evo_tutorial\n",
    "\n",
    "from src import * # Import all functions from src.py "
   ]
  },
  {
   "cell_type": "markdown",
   "metadata": {},
   "source": [
    "## Task\n",
    "\n",
    "To keep things simple, and runnable in class, we're going to start with a very simple task:\n",
    "* Given an input signal at time *0*, assign it to a class at time *n*\n",
    "* where input signals are drawn from normal distributions with different mean values per class\n",
    "* and after time *0* networks receive no input signals.\n",
    "\n",
    "Below are functions for generating, and plotting individual trials:\n",
    "* Each trial consists of a single value at time *0*, and then zeros for the remaining time. \n",
    "* Each trial is paired with a label, assigning it to a class.\n",
    "\n",
    "> 0. Read through the ```generate_trials``` and ```plot_trials``` functions below. \n",
    "> 1. Why can we run ```generate_trials(n_steps=3)``` without passing in it's other arguments?\n"
   ]
  },
  {
   "cell_type": "code",
   "execution_count": null,
   "metadata": {},
   "outputs": [],
   "source": [
    "def generate_trials(n_steps, mean_per_class=[-5, 5], n_trials_per_class=50): \n",
    "    \"\"\"\n",
    "    Generates trials for a simple temporal classification task. \n",
    "    Arguments: \n",
    "        n_steps: the length of each trial.\n",
    "        mean_per_class: the mean value, at time 0, per class.\n",
    "        n_trials_per_class: the number of trials generated per class. \n",
    "    Returns: \n",
    "        trials: a numpy array storing the trials (trials, time).  \n",
    "        labels: a numpy vector with a label per trial (trials,).\n",
    "    \"\"\"\n",
    "    trials, labels = [], []\n",
    "    for a, mean in enumerate(mean_per_class):\n",
    "        trials.extend(np.random.normal(loc=mean, scale=1, size=n_trials_per_class))\n",
    "        labels.extend(a * np.ones(n_trials_per_class))\n",
    "    \n",
    "    return np.pad(np.array(trials)[:, None], ((0,0), (0,n_steps))), np.array(labels)\n",
    "\n",
    "def plot_trials(trials, labels): \n",
    "    \"\"\"\n",
    "    Plots a set of trials (signal vs time), coloured by labels. \n",
    "    Arguments: \n",
    "        trials: a numpy array storing the trials (trials, time).  \n",
    "        labels: a numpy vector with a label per trial (trials,).\n",
    "    \"\"\"\n",
    "    cmap = colors.LinearSegmentedColormap.from_list(\n",
    "        \"\", ['xkcd:purple', 'xkcd:off white', 'xkcd:dark seafoam green'], N=len(np.unique(labels))\n",
    "    )\n",
    "\n",
    "    for l in np.unique(labels):\n",
    "        plt.plot(trials[labels==l].T, color=cmap(int(l)));\n",
    "    plt.xlabel('Time')\n",
    "    plt.ylabel('Input')"
   ]
  },
  {
   "cell_type": "code",
   "execution_count": null,
   "metadata": {},
   "outputs": [],
   "source": [
    "# Generate and plot trials \n",
    "trials, labels = generate_trials(n_steps=3)\n",
    "plot_trials(trials=trials, labels=labels)"
   ]
  },
  {
   "cell_type": "markdown",
   "metadata": {},
   "source": [
    "## Network model\n",
    "\n",
    "Now we're going to define a simple [recurrent neural network](https://www.geeksforgeeks.org/introduction-to-recurrent-neural-network/), and a function for testing it's performance on our task. \n",
    "\n",
    "> 2. Read through the ```RecurrentNetwork``` class in src.py. Why do we maintain two sets of ```unit_activations```: ```_t_1``` and ```_t```? \n",
    "> 3. Read through the ```test_network``` function below. Why do we use ```argmax``` to generate predictions?  \n",
    "> 4. Initialise a network, visualise it and test it's performance (fitness). Why does it guess randomly at initialisation? "
   ]
  },
  {
   "cell_type": "code",
   "execution_count": null,
   "metadata": {},
   "outputs": [],
   "source": [
    "def test_network(network, trials=trials, labels=labels):\n",
    "    \"\"\"\n",
    "    Tests a network on a set of trials. \n",
    "    Arguments: \n",
    "        trials: a numpy array storing the trials (trials, time).  \n",
    "        labels: a numpy vector with a label per trial (trials,).\n",
    "    Returns: \n",
    "        fitness: a score between 0 and 1 (perfect performance).\n",
    "        predictions: the network's predictions per trial.\n",
    "    \"\"\"\n",
    "    outputs = []\n",
    "    for trial in trials: \n",
    "        outputs.append(network.forward(trial.reshape(1,-1)))\n",
    "\n",
    "    predictions = np.argmax(np.array(outputs), axis=1) \n",
    "\n",
    "    return np.sum(predictions == labels) / len(labels), predictions"
   ]
  },
  {
   "cell_type": "code",
   "execution_count": null,
   "metadata": {},
   "outputs": [],
   "source": [
    "# Initialise a network and visualise it\n",
    "network = RecurrentNetwork(n_inputs=1, n_hidden=1, n_outputs=2)\n",
    "plot_architecture(network=network) # note that the network has nodes, but no connections"
   ]
  },
  {
   "cell_type": "code",
   "execution_count": null,
   "metadata": {},
   "outputs": [],
   "source": [
    "# Test this network's performance (fitness)\n",
    "fitness, predictions = test_network(network=network)\n",
    "print(\"Fitness = \" + str(fitness))\n",
    "plot_trials(trials=trials, labels=predictions) # Note that we're we're coloring each trial by the network's prediction, not it's true label"
   ]
  },
  {
   "cell_type": "markdown",
   "metadata": {},
   "source": [
    "## Writing an evolutionary algorithm \n",
    "\n",
    "To optimise our model, we're going to write a simple evolutionary algorithm in 4 steps:\n",
    "\n",
    "* Generate a population of networks \n",
    "* Evaluate each network's fitness \n",
    "* Rank networks by their fitness \n",
    "* Make a new population by varying the best network(s)\n",
    "\n",
    "Then, we'll wrap these steps into a function.\n",
    "\n",
    "> 5. We'll need the ```add_connections``` function from the ```RecurrentNetwork``` class. How does this work? \n",
    "> 6. Have a look at the ```evolve_networks``` function below to see what you're aiming for. \n",
    "> 7. Fill in the code cells below, then combine them to make your ```evolve_networks``` function. "
   ]
  },
  {
   "cell_type": "code",
   "execution_count": null,
   "metadata": {},
   "outputs": [],
   "source": [
    "# Generate a population of networks\n",
    "population_size = 10 # the number of networks in each generation\n",
    "networks = []\n",
    "for n in range(population_size): \n",
    "    \n",
    "    # Fill in code here\n",
    "    # You may want to create a \"diverse\" population by adding different numbers of connections to each network\n",
    "    pass "
   ]
  },
  {
   "cell_type": "code",
   "execution_count": null,
   "metadata": {},
   "outputs": [],
   "source": [
    "# Evaluate each network's fitness \n",
    "fitness = []\n",
    "for n in range(population_size):\n",
    "    # Fill in code here \n",
    "    pass "
   ]
  },
  {
   "cell_type": "code",
   "execution_count": null,
   "metadata": {},
   "outputs": [],
   "source": [
    "# Rank network's by their fitness \n",
    "# Fill in code here\n",
    "\n",
    "# If you reach maximum fitness, you could use a break statement here to stop training. \n",
    "\n",
    "# if best_fitness_per_generation[-1] == 1: \n",
    "#     break "
   ]
  },
  {
   "cell_type": "code",
   "execution_count": null,
   "metadata": {},
   "outputs": [],
   "source": [
    "# Make a new population by varying the best network(s) (by adding connections to them)\n",
    "networks = [] # Fill in code here"
   ]
  },
  {
   "cell_type": "code",
   "execution_count": null,
   "metadata": {},
   "outputs": [],
   "source": [
    "# Now, wrap all of the above code into a function \n",
    "\n",
    "# I've suggested some inputs and outputs, but you could add others! \n",
    "\n",
    "def evolve_networks(population_size, i_connections, n_generations):\n",
    "    \"\"\"\n",
    "    Evolves networks to solve a given task.  \n",
    "    Arguments: \n",
    "        population_size: the number of networks per generation. \n",
    "        i_connections: connections per network in generation 0.  \n",
    "        n_generations: the number of generations to run. \n",
    "    Outputs: \n",
    "        networks: a list of networks from the final generation. \n",
    "        best_fitness_per_generation: the maximum fitness in each generation.\n",
    "    \"\"\"\n",
    "    # Generate a population of networks \n",
    "    networks, best_fitness_per_generation = [], []\n",
    "    for n in range(population_size):\n",
    "        pass\n",
    "\n",
    "    for _ in tqdm(range(n_generations)):\n",
    "        # Evaluate each network's fitness\n",
    "        pass \n",
    "\n",
    "        # Rank networks by their fitness\n",
    "        pass\n",
    "\n",
    "        # if best_fitness_per_generation[-1] == 1: \n",
    "        #     break \n",
    "        \n",
    "        # Make a new population by varying the best network(s)\n",
    "        pass\n",
    "    \n",
    "    return networks, best_fitness_per_generation"
   ]
  },
  {
   "cell_type": "markdown",
   "metadata": {},
   "source": [
    "> 8. Now test your code. If it's working, you should be able to evolve good solutions (with fitness close to 1), using a small population (say 10) and less than 100 generations.\n",
    "\n",
    "Note: using ```tqdm```, as suggested above, will allow you to estimate your codes run time. If your code is running too slowly, you can interrupt it. "
   ]
  },
  {
   "cell_type": "code",
   "execution_count": null,
   "metadata": {},
   "outputs": [],
   "source": [
    "# Testing your function\n",
    "networks, fitness = evolve_networks(population_size=10, i_connections=0, i_nodes=0, n_generations=100)\n",
    "\n",
    "plt.plot(fitness, color='k')\n",
    "plt.ylim(0.0, 1.05)\n",
    "plt.xlabel('Generations')\n",
    "plt.ylabel('Fitness')"
   ]
  },
  {
   "cell_type": "markdown",
   "metadata": {},
   "source": [
    "> 9. Once you can evolve \"good\" networks, try to plot some of the evolved architectures - what do they look like? "
   ]
  },
  {
   "cell_type": "code",
   "execution_count": null,
   "metadata": {},
   "outputs": [],
   "source": [
    "# Ploting evolved architectures \n",
    "plot_architecture(network=networks[0])"
   ]
  },
  {
   "cell_type": "markdown",
   "metadata": {},
   "source": [
    "## Extensions\n",
    "\n",
    "Now you have a working evolutionary algorithm, try working on one or two of these extensions (in any order):\n",
    "\n",
    "> 10. Build on your algorithm. Above, we evolved networks by adding connections. But there are many variations we could use, for example adding nodes, updating weights etc. Try adding these to your algorithm. Hint: the ```RecurrentNetwork``` class already has an ```add_nodes``` function. \n",
    "\n",
    "> 10. Could your algorithm solve a more complex task? Hint: you could create a more complex task by changing ```generate_trials``` hyperparameter's or modifying the function itself. For example, you could increase ```n_steps``` or pad with noise instead of zeros.\n",
    "\n",
    "> 10. How do your networks solve the task, do they all use the same solution? Hint: try plotting and comparing some of the evolved architectures."
   ]
  }
 ],
 "metadata": {
  "kernelspec": {
   "display_name": "Evo_tutorial",
   "language": "python",
   "name": "python3"
  },
  "language_info": {
   "codemirror_mode": {
    "name": "ipython",
    "version": 3
   },
   "file_extension": ".py",
   "mimetype": "text/x-python",
   "name": "python",
   "nbconvert_exporter": "python",
   "pygments_lexer": "ipython3",
   "version": "3.11.10"
  }
 },
 "nbformat": 4,
 "nbformat_minor": 2
}
